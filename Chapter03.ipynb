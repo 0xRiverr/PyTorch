{
 "cells": [
  {
   "cell_type": "markdown",
   "id": "afe9cf79",
   "metadata": {},
   "source": [
    "# Pytorch中的优化器"
   ]
  },
  {
   "cell_type": "markdown",
   "id": "310ef6ef",
   "metadata": {},
   "source": [
    "<center><b>Pytorch中的优化器</b></center>"
   ]
  },
  {
   "cell_type": "markdown",
   "id": "f5f96886",
   "metadata": {},
   "source": [
    "|  函数   | 描述  |\n",
    "|  :----  | :----  |\n",
    "|  torch.optim.Adadelta()  | Adadelta算法 |\n",
    "|  torch.optim.Adagrad()  | Adagrad算法 |\n",
    "|  torch.optim.Adam()  | Adam算法 |\n",
    "|  torch.optim.Adamax()  | Adamax算法 |\n",
    "|  torch.optim.ASGD()  | 平均随机梯度下降算法 |\n",
    "|  torch.optim.LBFGS()  | L-BFGS算法 |\n",
    "|  torch.optim.RMSprop()  | RMSprop算法 |\n",
    "|  torch.optim.Rprop()  | 弹性反向传播算法 |\n",
    "|  torch.optim.SGD()  | 随机梯度下降算法 |"
   ]
  },
  {
   "cell_type": "code",
   "execution_count": 1,
   "id": "9eb1347a",
   "metadata": {},
   "outputs": [],
   "source": [
    "import torch\n",
    "import torch.nn as nn\n",
    "from torch.optim import Adam"
   ]
  },
  {
   "cell_type": "code",
   "execution_count": 2,
   "id": "6e862733",
   "metadata": {},
   "outputs": [],
   "source": [
    "# # Adam类的使用方式\n",
    "# torch.optim.Adam(params,  # 待优化参数的iterable或定义了参数组的dict，通常为model.parameters\n",
    "#                  lr=0.001,  # 算法学习率，默认为0.001\n",
    "#                  betas=(0.9, 0.999),  # 用于计算梯度以及梯度平方的运行平均值的系数，默认为(0.9, 0.999)\n",
    "#                  eps=1e-08,  # 为了增加数值计算发稳定性而加到分母里的项，默认为1e-08\n",
    "#                  weight_decay=0) # 权重衰减（L2惩罚），默认为0"
   ]
  },
  {
   "cell_type": "code",
   "execution_count": 3,
   "id": "f792de6f",
   "metadata": {},
   "outputs": [
    {
     "name": "stdout",
     "output_type": "stream",
     "text": [
      "TestNet(\n",
      "  (hidden): Sequential(\n",
      "    (0): Linear(in_features=13, out_features=10, bias=True)\n",
      "    (1): ReLU()\n",
      "  )\n",
      "  (regression): Linear(in_features=10, out_features=1, bias=True)\n",
      ")\n"
     ]
    }
   ],
   "source": [
    "# 建立一个测试网络\n",
    "class TestNet(nn.Module):\n",
    "    def __init__(self):\n",
    "        super(TestNet, self).__init__()\n",
    "\n",
    "        # 定义隐藏层\n",
    "        self.hidden = nn.Sequential(\n",
    "            nn.Linear(13, 10),\n",
    "            nn.ReLU(),\n",
    "        )\n",
    "\n",
    "        # 定义预测回归层\n",
    "        self.regression = nn.Linear(10, 1)\n",
    "\n",
    "    # 定义网络的向前传播路径\n",
    "    def forward(self, x):\n",
    "        x = self.hidden(x)\n",
    "        output = self.regression(x)\n",
    "\n",
    "        # 输出为output\n",
    "        return output\n",
    "\n",
    "\n",
    "# 输出我们的网络结构\n",
    "testnet = TestNet()\n",
    "print(testnet)"
   ]
  },
  {
   "cell_type": "code",
   "execution_count": 4,
   "id": "95e166ad",
   "metadata": {},
   "outputs": [],
   "source": [
    "# 定义优化器方式1：为不同的层定义统一的学习率\n",
    "optimizer = Adam(\n",
    "    testnet.parameters(),  # 表示对testnet网络中的所有需要优化的参数进行更新优化\n",
    "    lr=0.001 # 学习率统一使用0.001\n",
    ")"
   ]
  },
  {
   "cell_type": "code",
   "execution_count": 5,
   "id": "0a82779d",
   "metadata": {},
   "outputs": [],
   "source": [
    "# 定义优化器方式2：为不同的层定义不同的学习率\n",
    "optimizer = Adam(\n",
    "    [{\"params\": testnet.hidden.parameters(), \"lr\": 0.0001}, # 使用params关键字指定需要优化层的权重参数，学习率为0.0001\n",
    "     {\"params\": testnet.regression.parameters(), \"lr\": 0.01}], # 学习率为0.01\n",
    "    lr=1e-2 # 作用于testnet中其他没有特殊指定的所有参数\n",
    ")"
   ]
  },
  {
   "cell_type": "code",
   "execution_count": 6,
   "id": "243e5b57",
   "metadata": {},
   "outputs": [],
   "source": [
    "# # 对目标函数进行优化时通常的格式\n",
    "# for input,target in datasets:\n",
    "#     optimizer.zero_grad() # 梯度清零\n",
    "#     output = testnet(input) # 计算预测值\n",
    "#     loss = loss_fn(output,target) # 计算损失\n",
    "#     loss.backward() # 损失后向传播\n",
    "#     optimizer.step() # 更新网络参数"
   ]
  },
  {
   "cell_type": "markdown",
   "id": "36ada2b9",
   "metadata": {},
   "source": [
    "<center><b>Pytorch中的优化器学习率调整方式</b></center>"
   ]
  },
  {
   "cell_type": "code",
   "execution_count": 7,
   "id": "adf0fad1",
   "metadata": {},
   "outputs": [],
   "source": [
    "# 见书66页"
   ]
  },
  {
   "cell_type": "code",
   "execution_count": 8,
   "id": "58f08d61",
   "metadata": {},
   "outputs": [],
   "source": [
    "# scheduler = ... # 设置学习率调整方式\n",
    "# for epoch in range(100):\n",
    "#     train(...)\n",
    "#     validate(...)\n",
    "#     scheduler.step() # 更新学习率\n",
    "# 设置学习率调整方法的类，一般是再网络的训练前，而学习率的调整则是再网络的训练过程中，并通过scheduler.step()来更新"
   ]
  },
  {
   "cell_type": "markdown",
   "id": "adc42d34",
   "metadata": {},
   "source": [
    "# Pytorch中的损失函数"
   ]
  },
  {
   "cell_type": "markdown",
   "id": "f6c13a99",
   "metadata": {},
   "source": [
    "<center><b>Pytorch中的常用损失函数</b></center>"
   ]
  },
  {
   "cell_type": "markdown",
   "id": "4fc9e9c9",
   "metadata": {},
   "source": [
    "|  类   | 算法名称  | 适用问题类型 |\n",
    "|  :----  | :----  | :----  |\n",
    "|  torch.nn.L1Loss()  | 平均绝对值误差损失 | 回归 |\n",
    "|  torch.nn.MSEoss()  | 均方误差损失 | 回归 |\n",
    "|  torch.nn.CrossEntropyLoss()  | 交叉熵损失 | 多分类 |\n",
    "|  torch.nn.NLLLoss()  | 负对数似然函数损失 | 多分类 |\n",
    "|  torch.nn.NLLLoss2d()  | 图片负对数似然函数损失 | 图像分割 |\n",
    "|  torch.nn.KLDivLoss()  | KL散度损失 | 回归 |\n",
    "|  torch.nn.BCELoss()  | 二分类交叉熵损失 | 二分类 |\n",
    "|  torch.nn.MarginRankingLoss()  | 评价相似度的损失 |  |\n",
    "|  torch.nn.MultiLabelMarginLoss()  | 多标签分类的损失 | 多标签分类 |\n",
    "|  torch.nn.SmoothL1Loss()  | 平滑的L1损失 | 回归 |\n",
    "|  torch.nn.SoftMarginLoss()  | 多标签二分类问题的损失 | 多标签二分类 |"
   ]
  },
  {
   "cell_type": "markdown",
   "id": "cc8cd596",
   "metadata": {},
   "source": [
    "## 均方误差损失"
   ]
  },
  {
   "cell_type": "code",
   "execution_count": 9,
   "id": "cfc6671b",
   "metadata": {},
   "outputs": [
    {
     "data": {
      "text/plain": [
       "MSELoss()"
      ]
     },
     "execution_count": 9,
     "metadata": {},
     "output_type": "execute_result"
    }
   ],
   "source": [
    "torch.nn.MSELoss(\n",
    "    size_average=None,\n",
    "    reduce=None,\n",
    "    reduction='mean'\n",
    ")"
   ]
  },
  {
   "cell_type": "markdown",
   "id": "17eccecd",
   "metadata": {},
   "source": [
    "- size_average：默认为True。计算的损失为每个batch的均值，否则为每个batch的和。以后将会弃用该参数，可以通过设置reduction来代替该参数的效果。\n",
    "- reduce：默认为True，此时计算的损失会根据size_average参数设定，是计算每个batch的均值或和。以后将会弃用该参数。\n",
    "- reduction：通过指定参数取值为none、mean、sum来判断损失的计算方式。默认为mean，即计算的损失为每个batch的均值；如果设置为sum，则计算的损失为每个batch的和；如果设置为none，则表示不使用该参数"
   ]
  },
  {
   "cell_type": "markdown",
   "id": "b5c4e819",
   "metadata": {},
   "source": [
    "## 交叉熵损失"
   ]
  },
  {
   "cell_type": "code",
   "execution_count": 10,
   "id": "d5ef3fe5",
   "metadata": {},
   "outputs": [
    {
     "data": {
      "text/plain": [
       "CrossEntropyLoss()"
      ]
     },
     "execution_count": 10,
     "metadata": {},
     "output_type": "execute_result"
    }
   ],
   "source": [
    "torch.nn.CrossEntropyLoss(\n",
    "    weight=None,\n",
    "    size_average=None,\n",
    "    ignore_index=100,\n",
    "    reduce=None,\n",
    "    reduction='mean'\n",
    ")"
   ]
  },
  {
   "cell_type": "markdown",
   "id": "cd178d74",
   "metadata": {},
   "source": [
    "- weight：是1维的张量，包含n个元素，分别代表n类的权重，在训练样本不均衡时非常有用，默认值为None。\n",
    "- size_average：同上\n",
    "- reduction：同上\n",
    "- reduce：同上\n",
    "- ignore_index：指定被忽略且对输入梯度没有贡献的目标值"
   ]
  },
  {
   "cell_type": "markdown",
   "id": "11db3091",
   "metadata": {},
   "source": [
    "# 防止过拟合"
   ]
  },
  {
   "cell_type": "code",
   "execution_count": 11,
   "id": "baa84a1f",
   "metadata": {},
   "outputs": [],
   "source": [
    "# 见书68-71页"
   ]
  },
  {
   "cell_type": "markdown",
   "id": "ea4673c8",
   "metadata": {},
   "source": [
    "# 网络参数初始化"
   ]
  },
  {
   "cell_type": "markdown",
   "id": "cb0a0578",
   "metadata": {},
   "source": [
    "## 常用的参数初始化方法"
   ]
  },
  {
   "cell_type": "markdown",
   "id": "c1837182",
   "metadata": {},
   "source": [
    "<center><b>常用的初始化方法的功能</b></center>"
   ]
  },
  {
   "cell_type": "markdown",
   "id": "735cedba",
   "metadata": {},
   "source": [
    "|  类   | 算法名称  |\n",
    "|  :----  | :----  |\n",
    "|  nn.init.uniform_(tesnsor,a=0.0,b=1.0)  | 从均匀分布U(a,b)中生成值，填充输入的张量或变量 |\n",
    "|  nn.init.normal_(tesnsor,mean=0.0,std=1.0)  | 从给定均值mean和标准差std的正态分布中生成值，填充输入的张量或变量 |\n",
    "|  nn.init.constant_(tesnsor,val)  | 用val的值填充输入的张量或变量 |\n",
    "|  nn.init.eye_(tesnsor)  | 用单位矩阵来填充输入的二维张量或变量 |\n",
    "|  nn.init.dirac_(tesnsor)  | 用Dirac delta函数来填充[3,4,5]维输入张量或变量，在卷积层尽可能多的保存输入通道特性 |\n",
    "|  nn.init.xavier_uniform_(tesnsor,gain=1.0)  | 使用Glorot initialization方法正态分布生成值，生成随机数填充张量 |\n",
    "|  nn.init.xavier_normal_(tesnsor,gain=1.0)  | 使用Glorot initialization方法正态分布生成值，生成随机数填充张量 |\n",
    "|  nn.init.kaiming_uniform_(tesnsor,a=0,mode='fan_in',nonlinearity='leaky_relu')  | 使用He initialization方法正态分布生成值，生成随机数填充张量 |\n",
    "|  nn.init.kaiming_normal_(tesnsor,a=0,mode='fan_in',nonlinearity='leaky_relu')  | 使用He initialization方法正态分布生成值，生成随机数填充张量 |\n",
    "|  nn.init.orthogonal_(tesnsor,gain=1.0)  | 使用正交矩阵填充张量进行初始化 |"
   ]
  },
  {
   "cell_type": "markdown",
   "id": "3edfbb90",
   "metadata": {},
   "source": [
    "## 参数初始化方法应用实例"
   ]
  },
  {
   "cell_type": "markdown",
   "id": "cdc1c998",
   "metadata": {},
   "source": [
    "### 针对某一层的权重进行初始化"
   ]
  },
  {
   "cell_type": "code",
   "execution_count": 12,
   "id": "6a717350",
   "metadata": {},
   "outputs": [
    {
     "name": "stderr",
     "output_type": "stream",
     "text": [
      "C:\\Users\\13259\\AppData\\Local\\Temp\\ipykernel_3488\\277161067.py:7: UserWarning: nn.init.normal is now deprecated in favor of nn.init.normal_.\n",
      "  torch.nn.init.normal(conv1.weight, mean=0, std=1) # conv1.weight获取conv1卷积层初始权值参数\n"
     ]
    },
    {
     "data": {
      "image/png": "[encoded data removed]",
      "text/plain": [
       "<Figure size 800x600 with 1 Axes>"
      ]
     },
     "metadata": {},
     "output_type": "display_data"
    }
   ],
   "source": [
    "# 针对某一层的权重进行初始化\n",
    "import matplotlib.pyplot as plt\n",
    "conv1 = torch.nn.Conv2d(3, 16, 3)\n",
    "\n",
    "# 使用正态分布初始化权重\n",
    "torch.manual_seed(12)  # 随机数初始化种子\n",
    "torch.nn.init.normal(conv1.weight, mean=0, std=1) # conv1.weight获取conv1卷积层初始权值参数\n",
    "\n",
    "# 使用直方图可视化conv1.weight的分布情况\n",
    "plt.figure(figsize=(8, 6))\n",
    "plt.hist(conv1.weight.data.numpy().reshape(-1, 1), bins=30)\n",
    "plt.show()"
   ]
  },
  {
   "cell_type": "code",
   "execution_count": 13,
   "id": "d96a622f",
   "metadata": {},
   "outputs": [
    {
     "name": "stderr",
     "output_type": "stream",
     "text": [
      "C:\\Users\\13259\\AppData\\Local\\Temp\\ipykernel_3488\\4279711680.py:3: UserWarning: nn.init.constant is now deprecated in favor of nn.init.constant_.\n",
      "  torch.nn.init.constant(conv1.bias, val=0.1)\n"
     ]
    },
    {
     "data": {
      "text/plain": [
       "Parameter containing:\n",
       "tensor([0.1000, 0.1000, 0.1000, 0.1000, 0.1000, 0.1000, 0.1000, 0.1000, 0.1000,\n",
       "        0.1000, 0.1000, 0.1000, 0.1000, 0.1000, 0.1000, 0.1000],\n",
       "       requires_grad=True)"
      ]
     },
     "execution_count": 13,
     "metadata": {},
     "output_type": "execute_result"
    }
   ],
   "source": [
    "# 通过conv1.bias可以获取该层的偏置参数\n",
    "# 使用指定值初始化偏置\n",
    "torch.nn.init.constant(conv1.bias, val=0.1)"
   ]
  },
  {
   "cell_type": "markdown",
   "id": "623c5444",
   "metadata": {},
   "source": [
    "### 针对一个网络的权重初始化方法"
   ]
  },
  {
   "cell_type": "code",
   "execution_count": 14,
   "id": "dbde3229",
   "metadata": {},
   "outputs": [
    {
     "name": "stdout",
     "output_type": "stream",
     "text": [
      "TestNet(\n",
      "  (conv1): Conv2d(3, 16, kernel_size=(3, 3), stride=(1, 1))\n",
      "  (hidden): Sequential(\n",
      "    (0): Linear(in_features=100, out_features=100, bias=True)\n",
      "    (1): ReLU()\n",
      "    (2): Linear(in_features=100, out_features=50, bias=True)\n",
      "    (3): ReLU()\n",
      "  )\n",
      "  (cla): Linear(in_features=50, out_features=10, bias=True)\n",
      ")\n"
     ]
    }
   ],
   "source": [
    "# 建立一个测试网络\n",
    "class TestNet(nn.Module):\n",
    "    def __init__(self):\n",
    "        super(TestNet, self).__init__()\n",
    "        self.conv1 = nn.Conv2d(3, 16, 3)\n",
    "        self.hidden = nn.Sequential(\n",
    "            nn.Linear(100, 100),\n",
    "            nn.ReLU(),\n",
    "            nn.Linear(100, 50),\n",
    "            nn.ReLU(),\n",
    "        )\n",
    "        self.cla = nn.Linear(50, 10)\n",
    "\n",
    "    # 定义网络的前向传播路径\n",
    "    def forward(self, x):\n",
    "        x = self.conv1(x)\n",
    "        x = x.view(x.shape[0], -1)\n",
    "        x = x.hidden(x)\n",
    "        output = self.cla(x)\n",
    "        return output\n",
    "\n",
    "# 输出网络结构\n",
    "testnet = TestNet()\n",
    "print(testnet)"
   ]
  },
  {
   "cell_type": "code",
   "execution_count": 15,
   "id": "3a5bf7b8",
   "metadata": {},
   "outputs": [],
   "source": [
    "# 定义网络中的每个层进行权重初始化的函数\n",
    "def init_weights(m):\n",
    "    # 如果是卷积层\n",
    "    if type(m) == nn.Conv2d:\n",
    "        torch.nn.init.normal(m.weight,mean=0,std=0.5)\n",
    "    \n",
    "    # 如果是全连接层\n",
    "    if type(m) == nn.Linear:\n",
    "        torch.nn.init.uniform(m.weight,a=0.1,b=0.1)\n",
    "        m.bias.data.fill_(0.01)"
   ]
  },
  {
   "cell_type": "code",
   "execution_count": 16,
   "id": "f574c742",
   "metadata": {},
   "outputs": [
    {
     "name": "stderr",
     "output_type": "stream",
     "text": [
      "C:\\Users\\13259\\AppData\\Local\\Temp\\ipykernel_3488\\3660152606.py:5: UserWarning: nn.init.normal is now deprecated in favor of nn.init.normal_.\n",
      "  torch.nn.init.normal(m.weight,mean=0,std=0.5)\n",
      "C:\\Users\\13259\\AppData\\Local\\Temp\\ipykernel_3488\\3660152606.py:9: UserWarning: nn.init.uniform is now deprecated in favor of nn.init.uniform_.\n",
      "  torch.nn.init.uniform(m.weight,a=0.1,b=0.1)\n"
     ]
    },
    {
     "data": {
      "text/plain": [
       "TestNet(\n",
       "  (conv1): Conv2d(3, 16, kernel_size=(3, 3), stride=(1, 1))\n",
       "  (hidden): Sequential(\n",
       "    (0): Linear(in_features=100, out_features=100, bias=True)\n",
       "    (1): ReLU()\n",
       "    (2): Linear(in_features=100, out_features=50, bias=True)\n",
       "    (3): ReLU()\n",
       "  )\n",
       "  (cla): Linear(in_features=50, out_features=10, bias=True)\n",
       ")"
      ]
     },
     "execution_count": 16,
     "metadata": {},
     "output_type": "execute_result"
    }
   ],
   "source": [
    "# 使用网络的apply方法进行权重初始化\n",
    "torch.manual_seed(13)\n",
    "testnet.apply(init_weights)"
   ]
  },
  {
   "cell_type": "markdown",
   "id": "9d9e432d",
   "metadata": {},
   "source": [
    "# PyTorch中定义网络的方式"
   ]
  },
  {
   "cell_type": "code",
   "execution_count": 17,
   "id": "29f38f85",
   "metadata": {},
   "outputs": [],
   "source": [
    "import torch\n",
    "import torch.nn as nn\n",
    "from torch.optim import SGD\n",
    "import torch.utils.data as Data\n",
    "from sklearn.preprocessing import StandardScaler\n",
    "import pandas as pd\n",
    "import numpy as np\n",
    "import matplotlib.pyplot as plt"
   ]
  },
  {
   "cell_type": "markdown",
   "id": "963fe0d9",
   "metadata": {},
   "source": [
    "## 数据准备"
   ]
  },
  {
   "cell_type": "code",
   "execution_count": 18,
   "id": "79fd1676",
   "metadata": {},
   "outputs": [
    {
     "name": "stdout",
     "output_type": "stream",
     "text": [
      "boston_X.dtype: float64\n"
     ]
    },
    {
     "data": {
      "image/png": "[encoded data removed]",
      "text/plain": [
       "<Figure size 640x480 with 1 Axes>"
      ]
     },
     "metadata": {},
     "output_type": "display_data"
    }
   ],
   "source": [
    "# 读取波士顿回归数据\n",
    "data_url = \"http://lib.stat.cmu.edu/datasets/boston\"\n",
    "raw_df = pd.read_csv(data_url, sep=\"\\s+\", skiprows=22, header=None)\n",
    "boston_X = np.hstack([raw_df.values[::2, :], raw_df.values[1::2, :2]])\n",
    "boston_y= raw_df.values[1::2, 2]\n",
    "\n",
    "print(\"boston_X.dtype:\", boston_X.dtype)\n",
    "# print(\"boston_Y.dtype:\", boston_Y.dtype)\n",
    "\n",
    "plt.figure()\n",
    "plt.hist(boston_y, bins=20)\n",
    "plt.show()"
   ]
  },
  {
   "cell_type": "code",
   "execution_count": 19,
   "id": "6e1e0f18",
   "metadata": {},
   "outputs": [],
   "source": [
    "# 数据标准化处理\n",
    "ss = StandardScaler(with_mean=True, with_std=True)\n",
    "boston_Xs = ss.fit_transform(boston_X)\n",
    "\n",
    "# 将数据预处理为可以使用PyTorch进行批量训练的形式\n",
    "# 训练集X转化为张量\n",
    "train_xt = torch.from_numpy(boston_Xs.astype(np.float32))\n",
    "\n",
    "# 训练集y转化为张量\n",
    "train_yt = torch.from_numpy(boston_y.astype(np.float32))\n",
    "\n",
    "# 将训练集转化为张量后，使用TensorDaataSet将X和y整理到一起\n",
    "train_data = Data.TensorDataset(train_xt, train_yt)\n",
    "\n",
    "# 定义一个数据加载器，将训练数据集进行批量处理\n",
    "train_loader = Data.DataLoader(\n",
    "    dataset=train_data,\n",
    "    batch_size=128,  # 批处理样本大小\n",
    "    shuffle=True,\n",
    "    num_workers=1,\n",
    ")"
   ]
  },
  {
   "cell_type": "markdown",
   "id": "348d9039",
   "metadata": {},
   "source": [
    "## 网络定义与训练方式1"
   ]
  },
  {
   "cell_type": "code",
   "execution_count": 20,
   "id": "98f14bc8",
   "metadata": {},
   "outputs": [],
   "source": [
    "# 使用继承Module的方式定义全连接神经网络\n",
    "class MLPmodel(nn.Module):\n",
    "    def __init__(self):\n",
    "        super(MLPmodel, self).__init__()\n",
    "        # 定义第一个隐藏层\n",
    "        self.hidden1 = nn.Linear(\n",
    "            in_features=13,  # 第一个隐藏层的输入，数据的特征数\n",
    "            out_features=10,  # 第一个隐藏层的输出，神经元的数量\n",
    "            bias=True,  # 默认会有偏置\n",
    "        )\n",
    "        self.active1 = nn.ReLU()\n",
    "\n",
    "        # 定义第二个隐藏层\n",
    "        self.hidden2 = nn.Linear(10, 10)\n",
    "        self.active2 = nn.ReLU()\n",
    "\n",
    "        # 定义预测回归层\n",
    "        self.regression = nn.Linear(10, 1)\n",
    "\n",
    "    # 定义网络的前向传播路径\n",
    "    def forward(self, x):\n",
    "        x = self.hidden1(x)\n",
    "        x = self.active1(x)\n",
    "        x = self.hidden2(x)\n",
    "        x = self.active2(x)\n",
    "        output = self.regression(x)\n",
    "        # 输出为output\n",
    "        return output"
   ]
  },
  {
   "cell_type": "code",
   "execution_count": 21,
   "id": "898623f1",
   "metadata": {},
   "outputs": [
    {
     "name": "stdout",
     "output_type": "stream",
     "text": [
      "MLPmodel(\n",
      "  (hidden1): Linear(in_features=13, out_features=10, bias=True)\n",
      "  (active1): ReLU()\n",
      "  (hidden2): Linear(in_features=10, out_features=10, bias=True)\n",
      "  (active2): ReLU()\n",
      "  (regression): Linear(in_features=10, out_features=1, bias=True)\n",
      ")\n"
     ]
    }
   ],
   "source": [
    "# 输出我们的网络结构\n",
    "mlp1 = MLPmodel()\n",
    "print(mlp1)"
   ]
  },
  {
   "cell_type": "code",
   "execution_count": 22,
   "id": "f2936e01",
   "metadata": {},
   "outputs": [],
   "source": [
    "# 对回归模型mlp1进行训练并输出损失函数的变化情况，定义优化器和损失函数\n",
    "optimizer = SGD(mlp1.parameters(), lr=0.001) # mlp1.parameters()获取需要优化的参数\n",
    "loss_func = nn.MSELoss()  # 最小均方根误差\n",
    "train_loss_all = []  # 输出每个批次训练的损失函数\n",
    "\n",
    "# 进行训练，并输出每次迭代的损失函数\n",
    "for epoch in range(30):\n",
    "    # 对训练数据的加载器进行迭代计算\n",
    "    for step, (b_x, b_y) in enumerate(train_loader):\n",
    "        output = mlp1(b_x).flatten()  # MLP在训练batch上的输出\n",
    "        train_loss = loss_func(output, b_y)  # 均方根误差\n",
    "        optimizer.zero_grad()  # 每个迭代步的梯度初始化为0\n",
    "        train_loss.backward()  # 损失的后向传播，计算梯度\n",
    "        optimizer.step()  # 使用梯度进行优化\n",
    "        train_loss_all.append(train_loss.item())"
   ]
  },
  {
   "cell_type": "code",
   "execution_count": 23,
   "id": "0ae46bb6",
   "metadata": {},
   "outputs": [
    {
     "data": {
      "image/png": "[encoded data removed]",
      "text/plain": [
       "<Figure size 640x480 with 1 Axes>"
      ]
     },
     "metadata": {},
     "output_type": "display_data"
    }
   ],
   "source": [
    "# 可视化\n",
    "plt.figure()\n",
    "plt.plot(train_loss_all, 'r-')\n",
    "plt.title('Train loss per iteration')\n",
    "plt.show()"
   ]
  },
  {
   "cell_type": "markdown",
   "id": "0d654a08",
   "metadata": {},
   "source": [
    "## 网络定义与训练方式2"
   ]
  },
  {
   "cell_type": "code",
   "execution_count": 24,
   "id": "08a68b54",
   "metadata": {},
   "outputs": [],
   "source": [
    "# 使用定义网络时使用nn.Sequential的形式\n",
    "class MLPmodel2(nn.Module):\n",
    "    def __init__(self):\n",
    "        super(MLPmodel2, self).__init__()\n",
    "\n",
    "        # 定义隐藏层\n",
    "        self.hidden = nn.Sequential(\n",
    "            nn.Linear(13, 10),\n",
    "            nn.ReLU(),\n",
    "            nn.Linear(10, 10),\n",
    "            nn.ReLU(),\n",
    "        )\n",
    "\n",
    "        # 预测回归层\n",
    "        self.regerssion = nn.Linear(10, 1)\n",
    "\n",
    "    # 定义网络的前向传播路径\n",
    "    def forward(self, x):\n",
    "        x = self.hidden(x)\n",
    "        output = self.regerssion(x)\n",
    "        return output"
   ]
  },
  {
   "cell_type": "code",
   "execution_count": 25,
   "id": "08032812",
   "metadata": {},
   "outputs": [
    {
     "name": "stdout",
     "output_type": "stream",
     "text": [
      "MLPmodel2(\n",
      "  (hidden): Sequential(\n",
      "    (0): Linear(in_features=13, out_features=10, bias=True)\n",
      "    (1): ReLU()\n",
      "    (2): Linear(in_features=10, out_features=10, bias=True)\n",
      "    (3): ReLU()\n",
      "  )\n",
      "  (regerssion): Linear(in_features=10, out_features=1, bias=True)\n",
      ")\n"
     ]
    }
   ],
   "source": [
    "# 输出网络结构\n",
    "mlp2 = MLPmodel2()\n",
    "print(mlp2)"
   ]
  },
  {
   "cell_type": "code",
   "execution_count": 26,
   "id": "21cb0141",
   "metadata": {},
   "outputs": [],
   "source": [
    "# 对回归模型mlp2进行训练并输出损失函数的变化情况，定义优化器和损失函数\n",
    "optimizer = SGD(mlp2.parameters(), lr=0.001) # mlp1.parameters()获取需要优化的参数\n",
    "loss_func = nn.MSELoss()  # 最小均方根误差\n",
    "train_loss_all = []  # 输出每个批次训练的损失函数\n",
    "\n",
    "# 进行训练，并输出每次迭代的损失函数\n",
    "for epoch in range(30):\n",
    "    # 对训练数据的加载器进行迭代计算\n",
    "    for step, (b_x, b_y) in enumerate(train_loader):\n",
    "        output = mlp2(b_x).flatten()  # MLP在训练batch上的输出\n",
    "        train_loss = loss_func(output, b_y)  # 均方根误差\n",
    "        optimizer.zero_grad()  # 每个迭代步的梯度初始化为0\n",
    "        train_loss.backward()  # 损失的后向传播，计算梯度\n",
    "        optimizer.step()  # 使用梯度进行优化\n",
    "        train_loss_all.append(train_loss.item())"
   ]
  },
  {
   "cell_type": "code",
   "execution_count": 27,
   "id": "8284fcba",
   "metadata": {},
   "outputs": [
    {
     "data": {
      "image/png": "[encoded data removed]",
      "text/plain": [
       "<Figure size 640x480 with 1 Axes>"
      ]
     },
     "metadata": {},
     "output_type": "display_data"
    }
   ],
   "source": [
    "# 可视化\n",
    "plt.figure()\n",
    "plt.plot(train_loss_all, 'r-')\n",
    "plt.title('Train loss per iteration')\n",
    "plt.show()"
   ]
  },
  {
   "cell_type": "markdown",
   "id": "61993a71",
   "metadata": {},
   "source": [
    "# PyTorch模型保存和加载方法"
   ]
  },
  {
   "cell_type": "markdown",
   "id": "faf2b73f",
   "metadata": {},
   "source": [
    "## 保存整个模型"
   ]
  },
  {
   "cell_type": "code",
   "execution_count": 28,
   "id": "1005bb6f",
   "metadata": {},
   "outputs": [],
   "source": [
    "# 保存整个模型\n",
    "torch.save(mlp2,\"./data/model/chapter3/mlp2.pkl\")"
   ]
  },
  {
   "cell_type": "code",
   "execution_count": 29,
   "id": "04616101",
   "metadata": {},
   "outputs": [
    {
     "data": {
      "text/plain": [
       "MLPmodel2(\n",
       "  (hidden): Sequential(\n",
       "    (0): Linear(in_features=13, out_features=10, bias=True)\n",
       "    (1): ReLU()\n",
       "    (2): Linear(in_features=10, out_features=10, bias=True)\n",
       "    (3): ReLU()\n",
       "  )\n",
       "  (regerssion): Linear(in_features=10, out_features=1, bias=True)\n",
       ")"
      ]
     },
     "execution_count": 29,
     "metadata": {},
     "output_type": "execute_result"
    }
   ],
   "source": [
    "# 导入保存的模型\n",
    "mlp2load = torch.load(\"./data/model/chapter3/mlp2.pkl\")\n",
    "mlp2load"
   ]
  },
  {
   "cell_type": "markdown",
   "id": "cc52795c",
   "metadata": {},
   "source": [
    "## 只保存模型的参数"
   ]
  },
  {
   "cell_type": "code",
   "execution_count": 30,
   "id": "8a5e0644",
   "metadata": {},
   "outputs": [],
   "source": [
    "# 只保存模型的参数\n",
    "torch.save(mlp2.state_dict(),\"./data/model/chapter3/mlp2_param.pkl\")"
   ]
  },
  {
   "cell_type": "code",
   "execution_count": 31,
   "id": "19273335",
   "metadata": {},
   "outputs": [
    {
     "data": {
      "text/plain": [
       "OrderedDict([('hidden.0.weight',\n",
       "              tensor([[-0.3605, -0.3495,  0.2615,  0.2332,  0.1727, -0.0395,  0.2585, -0.3274,\n",
       "                       -0.2525,  0.1378,  0.2821, -0.1396, -0.4217],\n",
       "                      [-0.1320,  0.0813, -0.4602, -0.2582,  0.0542,  0.5068, -0.0875,  0.2929,\n",
       "                       -0.0686, -0.4235,  0.0194,  0.3613, -0.2599],\n",
       "                      [-0.0300,  0.0204, -0.0974,  0.2729, -0.1523,  0.0348,  0.1997, -0.1916,\n",
       "                       -0.1344, -0.3763, -0.1186,  0.2572,  0.1414],\n",
       "                      [ 0.0108, -0.2400, -0.1799,  0.1269, -0.0605, -0.0507,  0.0723,  0.0228,\n",
       "                        0.0488,  0.2500, -0.2315, -0.2478,  0.1953],\n",
       "                      [-0.3465,  0.1413,  0.1085,  0.3471,  0.1352, -0.1273, -0.1399,  0.1126,\n",
       "                        0.1440, -0.0269,  0.1851,  0.1877,  0.0143],\n",
       "                      [-0.2506,  0.2454,  0.2060, -0.0267,  0.0856, -0.1013,  0.1004,  0.1431,\n",
       "                        0.3168,  0.2617, -0.0846, -0.0300, -0.0039],\n",
       "                      [-0.3087, -0.3835, -0.1678, -0.1043, -0.1408,  0.4461, -0.0430, -0.4286,\n",
       "                        0.2622,  0.0892,  0.1808,  0.1114, -0.6523],\n",
       "                      [ 0.1716, -0.0708, -0.0403,  0.1659, -0.1981, -0.1214,  0.2435, -0.2640,\n",
       "                        0.2258,  0.2553,  0.3792,  0.0665, -0.2505],\n",
       "                      [-0.2544, -0.4175,  0.2744, -0.0392, -0.0891, -0.3277,  0.0055,  0.1067,\n",
       "                        0.0269,  0.1911, -0.2095,  0.1215, -0.0067],\n",
       "                      [-0.3847,  0.1826, -0.0194,  0.0389, -0.0996,  0.5468, -0.2031, -0.2180,\n",
       "                       -0.0108, -0.5961, -0.6391,  0.0930, -0.6298]])),\n",
       "             ('hidden.0.bias',\n",
       "              tensor([ 0.5578,  0.0698,  0.2445, -0.2610,  0.3942, -0.1661,  0.6171, -0.1356,\n",
       "                       0.3574,  0.7284])),\n",
       "             ('hidden.2.weight',\n",
       "              tensor([[ 0.2749,  0.6346,  0.0756,  0.1273, -0.1625, -0.1920,  0.5696,  0.3857,\n",
       "                        0.2801,  0.4484],\n",
       "                      [-0.2355, -0.2194,  0.2315, -0.1162, -0.2788, -0.1126, -0.1771,  0.2351,\n",
       "                       -0.3082, -0.2831],\n",
       "                      [-0.2598, -0.2997, -0.2609, -0.2895, -0.2938, -0.2096, -0.1598, -0.2221,\n",
       "                       -0.1597, -0.0479],\n",
       "                      [-0.0020,  0.0427,  0.0729,  0.1559, -0.3157, -0.1043,  0.2291, -0.1740,\n",
       "                       -0.1835,  0.0235],\n",
       "                      [ 0.7780,  0.5205,  0.4860, -0.2771,  0.5568,  0.3852,  0.9949,  0.4344,\n",
       "                        0.5517,  1.2858],\n",
       "                      [ 0.2191,  0.2093, -0.1264, -0.2619, -0.3035,  0.0066, -0.1726, -0.2554,\n",
       "                       -0.1211,  0.2144],\n",
       "                      [-0.2452,  0.0277,  0.2557, -0.0563,  0.2215, -0.3086,  0.1177, -0.2400,\n",
       "                       -0.2726,  0.2692],\n",
       "                      [ 0.1713, -0.2853, -0.0566,  0.0357,  0.0361, -0.1336,  0.2197, -0.1241,\n",
       "                        0.0265,  0.1621],\n",
       "                      [-0.1144, -0.0140,  0.1344, -0.3140, -0.3048, -0.1552,  0.0682,  0.1027,\n",
       "                       -0.2403,  0.1728],\n",
       "                      [ 0.1386,  0.2894,  0.1948, -0.0841, -0.1377, -0.2946, -0.2901, -0.0674,\n",
       "                       -0.2038,  0.2969]])),\n",
       "             ('hidden.2.bias',\n",
       "              tensor([ 6.2197e-01, -7.6714e-02, -1.4497e-01, -3.7597e-03,  1.7877e+00,\n",
       "                      -7.0018e-03, -1.4118e-03, -1.0752e-01, -1.5386e-01, -2.2502e-01])),\n",
       "             ('regerssion.weight',\n",
       "              tensor([[ 1.1658,  0.0524, -0.0133, -0.0217,  2.7251,  0.1716,  0.3128, -0.0113,\n",
       "                       -0.1397,  0.2340]])),\n",
       "             ('regerssion.bias', tensor([1.9296]))])"
      ]
     },
     "execution_count": 31,
     "metadata": {},
     "output_type": "execute_result"
    }
   ],
   "source": [
    "# 导入保存的模型\n",
    "mlp2param = torch.load(\"./data/model/chapter3/mlp2_param.pkl\")\n",
    "mlp2param"
   ]
  }
 ],
 "metadata": {
  "kernelspec": {
   "display_name": "pytorch2.0",
   "language": "python",
   "name": "pytorch2.0"
  },
  "language_info": {
   "codemirror_mode": {
    "name": "ipython",
    "version": 3
   },
   "file_extension": ".py",
   "mimetype": "text/x-python",
   "name": "python",
   "nbconvert_exporter": "python",
   "pygments_lexer": "ipython3",
   "version": "3.8.17"
  },
  "toc": {
   "base_numbering": 1,
   "nav_menu": {},
   "number_sections": true,
   "sideBar": true,
   "skip_h1_title": false,
   "title_cell": "Table of Contents",
   "title_sidebar": "Contents",
   "toc_cell": false,
   "toc_position": {
    "height": "563.2px",
    "left": "29px",
    "top": "110.525px",
    "width": "307.2px"
   },
   "toc_section_display": true,
   "toc_window_display": true
  }
 },
 "nbformat": 4,
 "nbformat_minor": 5
}
